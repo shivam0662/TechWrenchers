{
 "cells": [
  {
   "cell_type": "markdown",
   "metadata": {},
   "source": [
    "# Importing necessary Libraries"
   ]
  },
  {
   "cell_type": "code",
   "execution_count": 1,
   "metadata": {},
   "outputs": [],
   "source": [
    "# internet\n",
    "\n",
    "import asyncio\n",
    "import io\n",
    "import glob\n",
    "import os\n",
    "import sys\n",
    "import time\n",
    "import uuid\n",
    "import requests\n",
    "from urllib.parse import urlparse\n",
    "from io import BytesIO\n",
    "from PIL import Image, ImageDraw\n",
    "from azure.cognitiveservices.vision.face import FaceClient\n",
    "from msrest.authentication import CognitiveServicesCredentials\n",
    "from azure.cognitiveservices.vision.face.models import TrainingStatusType, Person, SnapshotObjectType, OperationStatusType"
   ]
  },
  {
   "cell_type": "code",
   "execution_count": 2,
   "metadata": {},
   "outputs": [],
   "source": [
    "KEY = '1a1e8895969a4b56aeb16864d68bf4e5'\n",
    "ENDPOINT = 'https://facialrecgnhackathon.cognitiveservices.azure.com/'"
   ]
  },
  {
   "cell_type": "code",
   "execution_count": 3,
   "metadata": {},
   "outputs": [
    {
     "name": "stdout",
     "output_type": "stream",
     "text": [
      "RESPONSE:[{'faceId': '3a514401-b527-480d-b85c-28f7b17331e3', 'faceRectangle': {'top': 203, 'left': 151, 'width': 241, 'height': 241}, 'faceAttributes': {'smile': 0.005, 'headPose': {'pitch': 5.2, 'roll': 0.8, 'yaw': -2.8}, 'gender': 'male', 'age': 24.0, 'facialHair': {'moustache': 0.1, 'beard': 0.1, 'sideburns': 0.1}}}]\n"
     ]
    }
   ],
   "source": [
    "# import modules\n",
    "import requests\n",
    "import cv2\n",
    "# Request headers set Subscription key which provides access to this API. Found in\n",
    "# your Cognitive Services accounts.\n",
    "headers = {\n",
    "    'Content-Type': 'application/json',\n",
    "    'Ocp-Apim-Subscription-Key': KEY,\n",
    "}\n",
    "body = dict()\n",
    "img_url = \"https://upload.wikimedia.org/wikipedia/commons/thumb/7/71/Emma_Watson_in_the_Bag.jpg/640px-Emma_Watson_in_the_Bag.jpg\"\n",
    "img_url2 = \"https://upload.wikimedia.org/wikipedia/commons/5/5f/Principal_cast_of_the_Harry_Potter_series.jpg\"\n",
    "body[\"url\"] = \"https://upload.wikimedia.org/wikipedia/commons/thumb/7/71/Emma_Watson_in_the_Bag.jpg/640px-Emma_Watson_in_the_Bag.jpg\"\n",
    "body = str(body)\n",
    "# Request URL\n",
    "FaceApiDetect = 'https://facialrecgnhackathon.cognitiveservices.azure.com/face/v1.0/detect?returnFaceId=true&returnFaceAttributes=age,gender,headPose,smile,facialHair'\n",
    "try:\n",
    "    # REST Call\n",
    "    response = requests.post(FaceApiDetect, data=body, headers=headers)\n",
    "    print(\"RESPONSE:\" + str(response.json()))\n",
    "except Exception as e:\n",
    "    print(e)"
   ]
  },
  {
   "cell_type": "code",
   "execution_count": 4,
   "metadata": {},
   "outputs": [],
   "source": [
    "# Checking if there exist multiples faces or single face. "
   ]
  },
  {
   "cell_type": "code",
   "execution_count": 5,
   "metadata": {},
   "outputs": [
    {
     "name": "stdout",
     "output_type": "stream",
     "text": [
      "[{'faceId': '3a514401-b527-480d-b85c-28f7b17331e3', 'faceRectangle': {'top': 203, 'left': 151, 'width': 241, 'height': 241}, 'faceAttributes': {'smile': 0.005, 'headPose': {'pitch': 5.2, 'roll': 0.8, 'yaw': -2.8}, 'gender': 'male', 'age': 24.0, 'facialHair': {'moustache': 0.1, 'beard': 0.1, 'sideburns': 0.1}}}]\n"
     ]
    }
   ],
   "source": [
    "response = response.json()\n",
    "print(response)"
   ]
  },
  {
   "cell_type": "code",
   "execution_count": 6,
   "metadata": {},
   "outputs": [
    {
     "name": "stdout",
     "output_type": "stream",
     "text": [
      "3a514401-b527-480d-b85c-28f7b17331e3\n",
      "{'top': 203, 'left': 151, 'width': 241, 'height': 241}\n",
      "male\n",
      "0.005\n",
      "24.0\n"
     ]
    }
   ],
   "source": [
    "faceId = response[0][\"faceId\"]\n",
    "print(faceId)\n",
    "faceRectangle = response[0][\"faceRectangle\"]\n",
    "print(faceRectangle)\n",
    "faceAttributes = response[0][\"faceAttributes\"]\n",
    "gender = faceAttributes['gender']\n",
    "print(gender)\n",
    "smile = faceAttributes['smile']\n",
    "print(smile)\n",
    "age = faceAttributes['age']\n",
    "print(age)\n"
   ]
  },
  {
   "cell_type": "code",
   "execution_count": 7,
   "metadata": {},
   "outputs": [
    {
     "name": "stdout",
     "output_type": "stream",
     "text": [
      "Only single face found\n"
     ]
    }
   ],
   "source": [
    "if len(response) > 1:\n",
    "    print(\"Multiple faces Exist\")\n",
    "else: \n",
    "    print(\"Only single face found\")"
   ]
  },
  {
   "cell_type": "markdown",
   "metadata": {},
   "source": [
    "# Converting Image object into numpy array."
   ]
  },
  {
   "cell_type": "code",
   "execution_count": 8,
   "metadata": {},
   "outputs": [
    {
     "ename": "UnidentifiedImageError",
     "evalue": "cannot identify image file <_io.BytesIO object at 0x000001889565D4F0>",
     "output_type": "error",
     "traceback": [
      "\u001b[1;31m---------------------------------------------------------------------------\u001b[0m",
      "\u001b[1;31mUnidentifiedImageError\u001b[0m                    Traceback (most recent call last)",
      "\u001b[1;32mc:\\Users\\NemesisX\\Desktop\\Azure_facial_recognition_module-master\\Working_FR.ipynb Cell 10'\u001b[0m in \u001b[0;36m<cell line: 4>\u001b[1;34m()\u001b[0m\n\u001b[0;32m      <a href='vscode-notebook-cell:/c%3A/Users/NemesisX/Desktop/Azure_facial_recognition_module-master/Working_FR.ipynb#ch0000010?line=0'>1</a>\u001b[0m \u001b[39mimport\u001b[39;00m \u001b[39mnumpy\u001b[39;00m \u001b[39mas\u001b[39;00m \u001b[39mnp\u001b[39;00m\n\u001b[0;32m      <a href='vscode-notebook-cell:/c%3A/Users/NemesisX/Desktop/Azure_facial_recognition_module-master/Working_FR.ipynb#ch0000010?line=2'>3</a>\u001b[0m response \u001b[39m=\u001b[39m requests\u001b[39m.\u001b[39mget(img_url)\n\u001b[1;32m----> <a href='vscode-notebook-cell:/c%3A/Users/NemesisX/Desktop/Azure_facial_recognition_module-master/Working_FR.ipynb#ch0000010?line=3'>4</a>\u001b[0m img \u001b[39m=\u001b[39m Image\u001b[39m.\u001b[39;49mopen(BytesIO(response\u001b[39m.\u001b[39;49mcontent))\n\u001b[0;32m      <a href='vscode-notebook-cell:/c%3A/Users/NemesisX/Desktop/Azure_facial_recognition_module-master/Working_FR.ipynb#ch0000010?line=4'>5</a>\u001b[0m img \u001b[39m=\u001b[39m np\u001b[39m.\u001b[39masarray(img)\n",
      "File \u001b[1;32m~\\AppData\\Local\\Packages\\PythonSoftwareFoundation.Python.3.9_qbz5n2kfra8p0\\LocalCache\\local-packages\\Python39\\site-packages\\PIL\\Image.py:3123\u001b[0m, in \u001b[0;36mopen\u001b[1;34m(fp, mode, formats)\u001b[0m\n\u001b[0;32m   <a href='file:///c%3A/Users/NemesisX/AppData/Local/Packages/PythonSoftwareFoundation.Python.3.9_qbz5n2kfra8p0/LocalCache/local-packages/Python39/site-packages/PIL/Image.py?line=3120'>3121</a>\u001b[0m \u001b[39mfor\u001b[39;00m message \u001b[39min\u001b[39;00m accept_warnings:\n\u001b[0;32m   <a href='file:///c%3A/Users/NemesisX/AppData/Local/Packages/PythonSoftwareFoundation.Python.3.9_qbz5n2kfra8p0/LocalCache/local-packages/Python39/site-packages/PIL/Image.py?line=3121'>3122</a>\u001b[0m     warnings\u001b[39m.\u001b[39mwarn(message)\n\u001b[1;32m-> <a href='file:///c%3A/Users/NemesisX/AppData/Local/Packages/PythonSoftwareFoundation.Python.3.9_qbz5n2kfra8p0/LocalCache/local-packages/Python39/site-packages/PIL/Image.py?line=3122'>3123</a>\u001b[0m \u001b[39mraise\u001b[39;00m UnidentifiedImageError(\n\u001b[0;32m   <a href='file:///c%3A/Users/NemesisX/AppData/Local/Packages/PythonSoftwareFoundation.Python.3.9_qbz5n2kfra8p0/LocalCache/local-packages/Python39/site-packages/PIL/Image.py?line=3123'>3124</a>\u001b[0m     \u001b[39m\"\u001b[39m\u001b[39mcannot identify image file \u001b[39m\u001b[39m%r\u001b[39;00m\u001b[39m\"\u001b[39m \u001b[39m%\u001b[39m (filename \u001b[39mif\u001b[39;00m filename \u001b[39melse\u001b[39;00m fp)\n\u001b[0;32m   <a href='file:///c%3A/Users/NemesisX/AppData/Local/Packages/PythonSoftwareFoundation.Python.3.9_qbz5n2kfra8p0/LocalCache/local-packages/Python39/site-packages/PIL/Image.py?line=3124'>3125</a>\u001b[0m )\n",
      "\u001b[1;31mUnidentifiedImageError\u001b[0m: cannot identify image file <_io.BytesIO object at 0x000001889565D4F0>"
     ]
    }
   ],
   "source": [
    "import numpy as np\n",
    "\n",
    "response = requests.get(img_url)\n",
    "img = Image.open(BytesIO(response.content))\n",
    "img = np.asarray(img)"
   ]
  },
  {
   "cell_type": "markdown",
   "metadata": {},
   "source": [
    "# plotting rectangle against detected face in the image. Facial Recognition-\n"
   ]
  },
  {
   "cell_type": "code",
   "execution_count": 9,
   "metadata": {},
   "outputs": [
    {
     "ename": "NameError",
     "evalue": "name 'img' is not defined",
     "output_type": "error",
     "traceback": [
      "\u001b[1;31m---------------------------------------------------------------------------\u001b[0m",
      "\u001b[1;31mNameError\u001b[0m                                 Traceback (most recent call last)",
      "\u001b[1;32mc:\\Users\\NemesisX\\Desktop\\Azure_facial_recognition_module-master\\Working_FR.ipynb Cell 12'\u001b[0m in \u001b[0;36m<cell line: 8>\u001b[1;34m()\u001b[0m\n\u001b[0;32m      <a href='vscode-notebook-cell:/c%3A/Users/NemesisX/Desktop/Azure_facial_recognition_module-master/Working_FR.ipynb#ch0000012?line=3'>4</a>\u001b[0m w \u001b[39m=\u001b[39m faceRectangle[\u001b[39m\"\u001b[39m\u001b[39mwidth\u001b[39m\u001b[39m\"\u001b[39m]\n\u001b[0;32m      <a href='vscode-notebook-cell:/c%3A/Users/NemesisX/Desktop/Azure_facial_recognition_module-master/Working_FR.ipynb#ch0000012?line=4'>5</a>\u001b[0m h \u001b[39m=\u001b[39m faceRectangle[\u001b[39m\"\u001b[39m\u001b[39mheight\u001b[39m\u001b[39m\"\u001b[39m]\n\u001b[1;32m----> <a href='vscode-notebook-cell:/c%3A/Users/NemesisX/Desktop/Azure_facial_recognition_module-master/Working_FR.ipynb#ch0000012?line=7'>8</a>\u001b[0m cv2\u001b[39m.\u001b[39mrectangle(img, (x, y), (x\u001b[39m+\u001b[39mw, y\u001b[39m+\u001b[39mh), (\u001b[39m0\u001b[39m, \u001b[39m255\u001b[39m, \u001b[39m0\u001b[39m), \u001b[39m2\u001b[39m)  \n\u001b[0;32m      <a href='vscode-notebook-cell:/c%3A/Users/NemesisX/Desktop/Azure_facial_recognition_module-master/Working_FR.ipynb#ch0000012?line=8'>9</a>\u001b[0m cv2\u001b[39m.\u001b[39mimshow(\u001b[39m'\u001b[39m\u001b[39mFace detected\u001b[39m\u001b[39m'\u001b[39m,img)\n\u001b[0;32m     <a href='vscode-notebook-cell:/c%3A/Users/NemesisX/Desktop/Azure_facial_recognition_module-master/Working_FR.ipynb#ch0000012?line=9'>10</a>\u001b[0m cv2\u001b[39m.\u001b[39mwaitKey(\u001b[39m0\u001b[39m) \n",
      "\u001b[1;31mNameError\u001b[0m: name 'img' is not defined"
     ]
    }
   ],
   "source": [
    "# faceRectangle[\"left\"]\n",
    "x = faceRectangle[\"left\"]\n",
    "y = faceRectangle[\"top\"]\n",
    "w = faceRectangle[\"width\"]\n",
    "h = faceRectangle[\"height\"]\n",
    "\n",
    "\n",
    "cv2.rectangle(img, (x, y), (x+w, y+h), (0, 255, 0), 2)  \n",
    "cv2.imshow('Face detected',img)\n",
    "cv2.waitKey(0) \n",
    "cv2.destroyAllWindows()\n"
   ]
  },
  {
   "cell_type": "code",
   "execution_count": null,
   "metadata": {},
   "outputs": [],
   "source": []
  },
  {
   "cell_type": "code",
   "execution_count": null,
   "metadata": {},
   "outputs": [],
   "source": []
  },
  {
   "cell_type": "code",
   "execution_count": null,
   "metadata": {},
   "outputs": [],
   "source": []
  },
  {
   "cell_type": "code",
   "execution_count": null,
   "metadata": {},
   "outputs": [],
   "source": []
  },
  {
   "cell_type": "code",
   "execution_count": null,
   "metadata": {},
   "outputs": [],
   "source": []
  },
  {
   "cell_type": "code",
   "execution_count": null,
   "metadata": {},
   "outputs": [],
   "source": []
  },
  {
   "cell_type": "code",
   "execution_count": null,
   "metadata": {},
   "outputs": [],
   "source": []
  }
 ],
 "metadata": {
  "kernelspec": {
   "display_name": "Python 3 (ipykernel)",
   "language": "python",
   "name": "python3"
  },
  "language_info": {
   "codemirror_mode": {
    "name": "ipython",
    "version": 3
   },
   "file_extension": ".py",
   "mimetype": "text/x-python",
   "name": "python",
   "nbconvert_exporter": "python",
   "pygments_lexer": "ipython3",
   "version": "3.9.12"
  }
 },
 "nbformat": 4,
 "nbformat_minor": 4
}
